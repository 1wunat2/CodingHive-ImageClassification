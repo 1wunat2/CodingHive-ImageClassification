{
 "cells": [
  {
   "cell_type": "code",
   "execution_count": 45,
   "metadata": {
    "collapsed": false
   },
   "outputs": [
    {
     "ename": "SyntaxError",
     "evalue": "invalid syntax (<ipython-input-45-b5a9b7d64130>, line 1)",
     "output_type": "error",
     "traceback": [
      "\u001b[0;36m  File \u001b[0;32m\"<ipython-input-45-b5a9b7d64130>\"\u001b[0;36m, line \u001b[0;32m1\u001b[0m\n\u001b[0;31m    <h1><img src=\"./THE CODING HIVE.png\" height=\"140\" width =\"140\">\u001b[0m\n\u001b[0m    ^\u001b[0m\n\u001b[0;31mSyntaxError\u001b[0m\u001b[0;31m:\u001b[0m invalid syntax\n"
     ]
    }
   ],
   "source": [
    "<h1><img src=\"./THE CODING HIVE.png\" height=\"140\" width =\"140\">\n",
    "Python Coding I: Arrays and Image Processing\n",
    "</h1>\n",
    "\n",
    "This module will cover the following topics:\n",
    "<h></h>\n",
    " - Working with Arrays\n",
    " - Conditions and loops\n",
    " - Functions\n",
    " - Image processing"
   ]
  },
  {
   "cell_type": "code",
   "execution_count": 0,
   "metadata": {
    "collapsed": false
   },
   "outputs": [
   ],
   "source": [
    "<h3>Chapter 1: Arrays</h3>"
   ]
  },
  {
   "cell_type": "markdown",
   "metadata": {
    "collapsed": false
   },
   "source": [
    "<h4>1.0: Numpy </h4>\n"
   ]
  },
  {
   "cell_type": "code",
   "execution_count": 47,
   "metadata": {
    "collapsed": false
   },
   "outputs": [
   ],
   "source": [
    "#let us import the library that we will be using to work with arrays\n",
    "import numpy as np"
   ]
  },
  {
   "cell_type": "markdown",
   "metadata": {
    "collapsed": false
   },
   "source": [
    "<h4>1.1: Array Creation </h4>\n",
    "There are various ways we can create an array. Arrays can also have multiple dimensions. In this section, we will explore creation methods in numpy such as arange, array, ones and random."
   ]
  },
  {
   "cell_type": "code",
   "execution_count": 48,
   "metadata": {
    "collapsed": false
   },
   "outputs": [
   ],
   "source": [
    "#one dimensional array (random numbers. Think of this as one pixel)\n",
    "oneDimPixel = np.random.randint(0, 255, size = (3))"
   ]
  },
  {
   "cell_type": "code",
   "execution_count": 49,
   "metadata": {
    "collapsed": false
   },
   "outputs": [
    {
     "name": "stdout",
     "output_type": "stream",
     "text": [
      "[212   3  83]\n"
     ]
    }
   ],
   "source": [
    "print(one_dim_pixel)"
   ]
  },
  {
   "cell_type": "code",
   "execution_count": 50,
   "metadata": {
    "collapsed": false
   },
   "outputs": [
   ],
   "source": [
    "#two dimensional arrays (think of this as a row of pixels)\n",
    "twoDimPixel = np.random.randint(0, 255, size = (3, 3))"
   ]
  },
  {
   "cell_type": "code",
   "execution_count": 51,
   "metadata": {
    "collapsed": false
   },
   "outputs": [
    {
     "name": "stdout",
     "output_type": "stream",
     "text": [
      "[[201 139 254]\n",
      " [ 94 168 179]\n",
      " [214 158  32]]\n"
     ]
    }
   ],
   "source": [
    "print(twoDimPixel)"
   ]
  },
  {
   "cell_type": "code",
   "execution_count": 52,
   "metadata": {
    "collapsed": false
   },
   "outputs": [
   ],
   "source": [
    "#three dimensional arrays. This dimension represents most of the images we will be dealing with. 28 pixels by 28 pixels\n",
    "threeDimPixel = np.random.randint(0, 255, size = (100, 100, 3))"
   ]
  },
  {
   "cell_type": "code",
   "execution_count": 53,
   "metadata": {
    "collapsed": false
   },
   "outputs": [
    {
     "name": "stdout",
     "output_type": "stream",
     "text": [
      "[[[ 96  93  58]\n",
      "  [ 30  94 103]\n",
      "  [ 90 149 207]\n",
      "  ...\n",
      "  [236 210 201]\n",
      "  [149  26 148]\n",
      "  [217 231 133]]\n",
      "\n",
      " [[ 68  43  33]\n",
      "  [164  98 109]\n",
      "  [220 183 121]\n",
      "  ...\n",
      "  [110 236 165]\n",
      "  [112  10 110]\n",
      "  [173 138 173]]\n",
      "\n",
      " [[205  15  44]\n",
      "  [ 68 243 243]\n",
      "  [220 206 165]\n",
      "  ...\n",
      "  [183 178 217]\n",
      "  [216 106 146]\n",
      "  [ 59  96 155]]\n",
      "\n",
      " ...\n",
      "\n",
      " [[203  69 202]\n",
      "  [136  88  20]\n",
      "  [170 193 167]\n",
      "  ...\n",
      "  [ 60  97 157]\n",
      "  [203 195  38]\n",
      "  [219 173  32]]\n",
      "\n",
      " [[ 87 206 184]\n",
      "  [149 106 210]\n",
      "  [107  87  81]\n",
      "  ...\n",
      "  [ 25 100  71]\n",
      "  [124  20  27]\n",
      "  [ 21 137 146]]\n",
      "\n",
      " [[ 50 102  48]\n",
      "  [ 84 208 129]\n",
      "  [118 205  69]\n",
      "  ...\n",
      "  [ 98  66 153]\n",
      "  [ 93 151 234]\n",
      "  [241  75 197]]]\n"
     ]
    }
   ],
   "source": [
    "print(threeDimPixel)"
   ]
  },
  {
   "cell_type": "markdown",
   "metadata": {
    "collapsed": false
   },
   "source": [
    "<h4>1.2: Array Info</h4>\n",
    "Now that we have created these arrays, we can start exploring their content and find out more about their types.\n"
   ]
  },
  {
   "cell_type": "code",
   "execution_count": 54,
   "metadata": {
    "collapsed": false
   },
   "outputs": [
    {
     "name": "stdout",
     "output_type": "stream",
     "text": [
      "1 2 3\n"
     ]
    }
   ],
   "source": [
    "#find out array dimensions\n",
    "print(oneDimPixel.ndim, twoDimPixel.ndim, threeDimPixel.ndim)"
   ]
  },
  {
   "cell_type": "code",
   "execution_count": 55,
   "metadata": {
    "collapsed": false
   },
   "outputs": [
    {
     "name": "stdout",
     "output_type": "stream",
     "text": [
      "1 2 3\n"
     ]
    }
   ],
   "source": [
    "#find out the dimensions\n",
    "print(oneDimPixel.ndim, twoDimPixel.ndim, threeDimPixel.ndim)"
   ]
  },
  {
   "cell_type": "code",
   "execution_count": 56,
   "metadata": {
    "collapsed": false
   },
   "outputs": [
    {
     "name": "stdout",
     "output_type": "stream",
     "text": [
      "3 9 30000\n"
     ]
    }
   ],
   "source": [
    "#find out array size\n",
    "print(oneDimPixel.size, twoDimPixel.size, threeDimPixel.size)"
   ]
  },
  {
   "cell_type": "code",
   "execution_count": 57,
   "metadata": {
    "collapsed": false
   },
   "outputs": [
    {
     "name": "stdout",
     "output_type": "stream",
     "text": [
      "447\n",
      "1439\n",
      "3816397\n"
     ]
    }
   ],
   "source": [
    "#find out the sum of the array\n",
    "print(oneDimPixel.sum())\n",
    "print(twoDimPixel.sum())\n",
    "print(threeDimPixel.sum())"
   ]
  },
  {
   "cell_type": "code",
   "execution_count": 58,
   "metadata": {
    "collapsed": false
   },
   "outputs": [
    {
     "name": "stdout",
     "output_type": "stream",
     "text": [
      "42\n",
      "32\n",
      "0\n"
     ]
    }
   ],
   "source": [
    "#find out the minimum pixel\n",
    "print(oneDimPixel.min())\n",
    "print(twoDimPixel.min())\n",
    "print(threeDimPixel.min())"
   ]
  },
  {
   "cell_type": "code",
   "execution_count": 59,
   "metadata": {
    "collapsed": false
   },
   "outputs": [
    {
     "name": "stdout",
     "output_type": "stream",
     "text": [
      "149.0\n",
      "159.88888888888889\n",
      "127.21323333333333\n"
     ]
    }
   ],
   "source": [
    "#find out the average pixel value\n",
    "print(oneDimPixel.mean())\n",
    "print(twoDimPixel.mean())\n",
    "print(threeDimPixel.mean())"
   ]
  },
  {
   "cell_type": "markdown",
   "metadata": {
    "collapsed": false
   },
   "source": [
    "<h4>1.3: Slicing an Array</h4>\n",
    "In this section we will learn how to pull individual elements or a range of elements from arrays. "
   ]
  },
  {
   "cell_type": "code",
   "execution_count": 60,
   "metadata": {
    "collapsed": false
   },
   "outputs": [
    {
     "data": {
      "text/plain": [
       "42"
      ]
     },
     "execution_count": 60,
     "metadata": {
     },
     "output_type": "execute_result"
    }
   ],
   "source": [
    "#pull an element from a one dimensional array\n",
    "oneDimPixel[1]"
   ]
  },
  {
   "cell_type": "code",
   "execution_count": 61,
   "metadata": {
    "collapsed": false
   },
   "outputs": [
    {
     "data": {
      "text/plain": [
       "array([190,  42, 215])"
      ]
     },
     "execution_count": 61,
     "metadata": {
     },
     "output_type": "execute_result"
    }
   ],
   "source": [
    "#pull a range of elements from an array\n",
    "oneDimPixel[0 : 3]"
   ]
  },
  {
   "cell_type": "code",
   "execution_count": 62,
   "metadata": {
    "collapsed": false
   },
   "outputs": [
    {
     "data": {
      "text/plain": [
       "201"
      ]
     },
     "execution_count": 62,
     "metadata": {
     },
     "output_type": "execute_result"
    }
   ],
   "source": [
    "#pull an element from a two dimensional array\n",
    "twoDimPixel[0, 0]"
   ]
  },
  {
   "cell_type": "code",
   "execution_count": 63,
   "metadata": {
    "collapsed": false
   },
   "outputs": [
    {
     "data": {
      "text/plain": [
       "96"
      ]
     },
     "execution_count": 63,
     "metadata": {
     },
     "output_type": "execute_result"
    }
   ],
   "source": [
    "#pull an element from a three dimensional array\n",
    "threeDimPixel[0, 0, 0]"
   ]
  },
  {
   "cell_type": "code",
   "execution_count": 64,
   "metadata": {
    "collapsed": false
   },
   "outputs": [
    {
     "data": {
      "text/plain": [
       "array([190,  42, 215])"
      ]
     },
     "execution_count": 64,
     "metadata": {
     },
     "output_type": "execute_result"
    }
   ],
   "source": [
    "#use conditions to splice an array\n",
    "oneDimPixel[oneDimPixel < 250]"
   ]
  },
  {
   "cell_type": "code",
   "execution_count": 65,
   "metadata": {
    "collapsed": false
   },
   "outputs": [
    {
     "data": {
      "text/plain": [
       "array([ True,  True,  True])"
      ]
     },
     "execution_count": 65,
     "metadata": {
     },
     "output_type": "execute_result"
    }
   ],
   "source": [
    "oneDimPixel < 250"
   ]
  },
  {
   "cell_type": "markdown",
   "metadata": {
    "collapsed": false
   },
   "source": [
    "<h4>1.4: Restructuring Arrays</h4>\n",
    "Sometimes in Neural Networks, we will need to flatten an image by converting its multi-dimensional space into one dimension. This can be done with the function reshape."
   ]
  },
  {
   "cell_type": "code",
   "execution_count": 66,
   "metadata": {
    "collapsed": false
   },
   "outputs": [
    {
     "name": "stdout",
     "output_type": "stream",
     "text": [
      "[[201 139 254]\n",
      " [ 94 168 179]\n",
      " [214 158  32]]\n"
     ]
    }
   ],
   "source": [
    "#view two dimensional array\n",
    "print(twoDimPixel)"
   ]
  },
  {
   "cell_type": "code",
   "execution_count": 67,
   "metadata": {
    "collapsed": false
   },
   "outputs": [
    {
     "data": {
      "text/plain": [
       "array([[201,  94, 214],\n",
       "       [139, 168, 158],\n",
       "       [254, 179,  32]])"
      ]
     },
     "execution_count": 67,
     "metadata": {
     },
     "output_type": "execute_result"
    }
   ],
   "source": [
    "#transpose an array\n",
    "np.transpose(twoDimPixel)"
   ]
  },
  {
   "cell_type": "code",
   "execution_count": 68,
   "metadata": {
    "collapsed": false
   },
   "outputs": [
    {
     "data": {
      "text/plain": [
       "array([[201, 139, 254,  94, 168, 179, 214, 158,  32]])"
      ]
     },
     "execution_count": 68,
     "metadata": {
     },
     "output_type": "execute_result"
    }
   ],
   "source": [
    "#resize the array. we are taking the 3x3 dimensional array and flattening it to be 1x9 one dimensional array\n",
    "np.reshape(twoDimPixel, (1, 9))"
   ]
  },
  {
   "cell_type": "markdown",
   "metadata": {
    "collapsed": false
   },
   "source": [
    "<h4>1.5: Appending to an Array</h4>"
   ]
  },
  {
   "cell_type": "code",
   "execution_count": 69,
   "metadata": {
    "collapsed": false
   },
   "outputs": [
    {
     "data": {
      "text/plain": [
       "array([190,  42, 215, 150])"
      ]
     },
     "execution_count": 69,
     "metadata": {
     },
     "output_type": "execute_result"
    }
   ],
   "source": [
    "#add another pixel\n",
    "np.append(oneDimPixel, 150)"
   ]
  },
  {
   "cell_type": "markdown",
   "metadata": {
    "collapsed": false
   },
   "source": [
    "<h4>1.6: Displaying an Image Array</h4>"
   ]
  },
  {
   "cell_type": "code",
   "execution_count": 70,
   "metadata": {
    "collapsed": false
   },
   "outputs": [
    {
     "data": {
      "text/plain": [
       "<matplotlib.image.AxesImage at 0x7f166b0c64a8>"
      ]
     },
     "execution_count": 70,
     "metadata": {
     },
     "output_type": "execute_result"
    },
    {
     "data": {
      "image/png": "[encoded data removed]",
      "text/plain": [
       "<Figure size 432x288 with 1 Axes>"
      ]
     },
     "execution_count": 70,
     "metadata": {
      "image/png": {
       "height": 251,
       "width": 251
      }
     },
     "output_type": "execute_result"
    }
   ],
   "source": [
    "#use the imshow function from matplotlib to display an array as a picture\n",
    "import matplotlib.pyplot as plt            # visualize images\n",
    "plt.imshow(threeDimPixel)"
   ]
  },
  {
   "cell_type": "markdown",
   "metadata": {
    "collapsed": false
   },
   "source": [
    "<h2>4.0 Conditions and Loops</h2>"
   ]
  },
  {
   "cell_type": "markdown",
   "metadata": {
    "collapsed": false
   },
   "source": [
    "Python allows us to assess logical conditions as follows:\n",
    "\n",
    "-  Equals: `a == b`\n",
    "-  Not Equals: `a != b`\n",
    "-  Less than: `a < b`\n",
    "-  Less than or equal to: `a <= b`\n",
    "-  Greater than: `a > b`\n",
    "-  Greater than or equal to: `a >= b`\n",
    "\n",
    "The output of each of the above logical conditions is `True` or `False`. These conditions can be used in IF statements, For loops, and while loops."
   ]
  },
  {
   "cell_type": "markdown",
   "metadata": {
    "collapsed": false
   },
   "source": [
    "<h3>4.1 IF Condition</h3>\n",
    "\n",
    "Programming is very useful in turning any decision-making process into an efficient and reproducible process. Decision-making usually involves the following steps:\n",
    "\n",
    "-  Information collection\n",
    "-  Coming up with logic\n",
    "-  Definining actions for each logic\n",
    "\n",
    "If statements allow us to build code that executes certain actions depending on the values of the information collected. For example, if we want to write a piece of code that decides whether a number is positive, negative or 0, we can construct it the following way (note the indentation):"
   ]
  },
  {
   "cell_type": "code",
   "execution_count": 71,
   "metadata": {
    "collapsed": false
   },
   "outputs": [
    {
     "name": "stdout",
     "output_type": "stream",
     "text": [
      "Negative\n"
     ]
    }
   ],
   "source": [
    "#write a code that identifies positive, negative and 0 numbers\n",
    "exampleNum = -1\n",
    "\n",
    "if(exampleNum < 0):\n",
    "    print('Negative')\n",
    "elif(exampleNum):\n",
    "    print('Positive')\n",
    "else:\n",
    "    print('0')"
   ]
  },
  {
   "cell_type": "code",
   "execution_count": 30,
   "metadata": {
    "collapsed": false
   },
   "outputs": [
    {
     "data": {
      "text/plain": [
       "True"
      ]
     },
     "execution_count": 30,
     "metadata": {
     },
     "output_type": "execute_result"
    }
   ],
   "source": [
    "#look at the output of condition\n",
    "input>0"
   ]
  },
  {
   "cell_type": "markdown",
   "metadata": {
    "collapsed": false
   },
   "source": [
    "<h3>4.2 FOR Loops</h3>\n",
    "\n",
    "Loops provide you with the ability to loop through any list and execute a certain action on each element within that list. "
   ]
  },
  {
   "cell_type": "code",
   "execution_count": 77,
   "metadata": {
    "collapsed": false
   },
   "outputs": [
    {
     "name": "stdout",
     "output_type": "stream",
     "text": [
      "The current number is 0 and the current sum in: 0\n",
      "The current number is 1 and the current sum in: 1\n",
      "The current number is 2 and the current sum in: 3\n",
      "The current number is 3 and the current sum in: 6\n",
      "The sum is: 6\n"
     ]
    }
   ],
   "source": [
    "#write a loop that goes through a range of numbers and add them\n",
    "tempSum = 0\n",
    "\n",
    "for number in np.arange(0, 4):\n",
    "    tempSum = tempSum + number\n",
    "    print ('The current number is ' + str(number) + ' and the current sum in: ' + str(tempSum))\n",
    "print('The sum is: ' + str(tempSum))"
   ]
  },
  {
   "cell_type": "markdown",
   "metadata": {
    "collapsed": false
   },
   "source": [
    "<h2>5.0 Functions</h2>\n",
    "\n",
    "Functions are a great way to combine everything we have learned so far! A function is a block of code that can contain a mix of conditional logic, variable definitions, loops and actions. The intention of a functions is to take in a number of input variables and return actions/decisions. Each function is usually developed to perform a specific task. Functions can then come together to produce a pipeline. \n",
    "\n",
    "Let's start with a simple function that simply takes your name and prints a personalized greeting! "
   ]
  },
  {
   "cell_type": "code",
   "execution_count": 81,
   "metadata": {
    "collapsed": false
   },
   "outputs": [
   ],
   "source": [
    "#write a simple function\n",
    "def nameGreeting(name):\n",
    "    print('hello ' + str(name) + ' how are you today')"
   ]
  },
  {
   "cell_type": "code",
   "execution_count": 82,
   "metadata": {
    "collapsed": false
   },
   "outputs": [
    {
     "name": "stdout",
     "output_type": "stream",
     "text": [
      "hello Isaac how are you today\n"
     ]
    }
   ],
   "source": [
    "nameGreeting('Isaac')"
   ]
  },
  {
   "cell_type": "markdown",
   "metadata": {
    "collapsed": false
   },
   "source": [
    "Let's write a function that calculates the average score from a list of scores that get passed to it: "
   ]
  },
  {
   "cell_type": "code",
   "execution_count": 87,
   "metadata": {
    "collapsed": false
   },
   "outputs": [
   ],
   "source": [
    "# let's first define our function\n",
    "def findAverage(x):\n",
    "    total = sum(x)\n",
    "    length = len(x)\n",
    "    average = total/length\n",
    "    return average\n"
   ]
  },
  {
   "cell_type": "code",
   "execution_count": 88,
   "metadata": {
    "collapsed": false
   },
   "outputs": [
    {
     "data": {
      "text/plain": [
       "214.6"
      ]
     },
     "execution_count": 88,
     "metadata": {
     },
     "output_type": "execute_result"
    }
   ],
   "source": [
    "findAverage([675,43,7,345,3])"
   ]
  },
  {
   "cell_type": "code",
   "execution_count": 24,
   "metadata": {
    "collapsed": false
   },
   "outputs": [
   ],
   "source": [
    "                                   # you can call your function. try changing what you pass to it"
   ]
  },
  {
   "cell_type": "markdown",
   "metadata": {
    "collapsed": false
   },
   "source": [
    "This function actually exists in Python and it is called mean(). Let's try running it and see if we get the same results.\n"
   ]
  },
  {
   "cell_type": "code",
   "execution_count": 36,
   "metadata": {
    "collapsed": false
   },
   "outputs": [
    {
     "name": "stdout",
     "output_type": "stream",
     "text": [
      "2\n"
     ]
    }
   ],
   "source": [
    "from statistics import mean\n",
    "print(mean([1,2,3]))"
   ]
  },
  {
   "cell_type": "markdown",
   "metadata": {
    "collapsed": false
   },
   "source": [
    "<h2>6.0 Image Processing</h2>\n",
    "\n"
   ]
  },
  {
   "cell_type": "markdown",
   "metadata": {
    "collapsed": false
   },
   "source": [
    "In this section, you will learn how to load and process images using Python. This will be useful when we perform image classification using neural networks! There are many packages that we can use to do this. We will utilize Keras (a package that we will use to perform machine learning) to do some of these tasks. \n",
    "The aim of this exercise is to get you familiar with:\n",
    "<h></h>\n",
    " - Loading an image\n",
    " - Converting an image to an array of pixels\n",
    " - Understand RGB\n",
    " - Write a function that identifies R2D2 vs Darth Vader"
   ]
  },
  {
   "cell_type": "markdown",
   "metadata": {
    "collapsed": false
   },
   "source": [
    "<h4>6.1: Load Required Libraries</h4>\n",
    "\n",
    "You will only need 3 libraries to perform the above tasks!"
   ]
  },
  {
   "cell_type": "code",
   "execution_count": 89,
   "metadata": {
    "collapsed": false
   },
   "outputs": [
    {
     "name": "stderr",
     "output_type": "stream",
     "text": [
      "Using TensorFlow backend.\n"
     ]
    }
   ],
   "source": [
    "import matplotlib.pyplot as plt            # visualize array of pixels\n",
    "from keras.preprocessing import image      # preprocess images\n",
    "from PIL import ImageOps                   # preprocess images\n"
   ]
  },
  {
   "cell_type": "markdown",
   "metadata": {
    "collapsed": false
   },
   "source": [
    "<h4>6.2 Load R2D2 and Darth Vader Images</h4>\n",
    "Using the <b>load_img</b> function from <b>image</b> library, let's try to load the image r2d2.png and darth.png. The function has multiple paramteres:\n",
    "\n",
    " - path= we use this parameter to specify the location of the image\n",
    " - color_mode= we can pick gray scale\n",
    " - target_size= we can specify the dimensions\n",
    " \n",
    "\n"
   ]
  },
  {
   "cell_type": "code",
   "execution_count": 2,
   "metadata": {
    "collapsed": false
   },
   "outputs": [
    {
     "ename": "NameError",
     "evalue": "name 'image' is not defined",
     "output_type": "error",
     "traceback": [
      "\u001b[0;31m---------------------------------------------------------------------------\u001b[0m",
      "\u001b[0;31mNameError\u001b[0m                                 Traceback (most recent call last)",
      "\u001b[0;32m<ipython-input-2-27d4b4275164>\u001b[0m in \u001b[0;36m<module>\u001b[0;34m\u001b[0m\n\u001b[0;32m----> 1\u001b[0;31m \u001b[0mr2d2\u001b[0m \u001b[0;34m=\u001b[0m \u001b[0mimage\u001b[0m\u001b[0;34m.\u001b[0m\u001b[0mload_img\u001b[0m\u001b[0;34m(\u001b[0m\u001b[0mpath\u001b[0m \u001b[0;34m=\u001b[0m \u001b[0;34m\"/home/user/data/r2d2.png\"\u001b[0m\u001b[0;34m,\u001b[0m \u001b[0mtarget_size\u001b[0m \u001b[0;34m=\u001b[0m \u001b[0;34m(\u001b[0m\u001b[0;36m180\u001b[0m\u001b[0;34m,\u001b[0m \u001b[0;36m180\u001b[0m\u001b[0;34m)\u001b[0m\u001b[0;34m)\u001b[0m\u001b[0;34m\u001b[0m\u001b[0;34m\u001b[0m\u001b[0m\n\u001b[0m\u001b[1;32m      2\u001b[0m \u001b[0mdarth\u001b[0m \u001b[0;34m=\u001b[0m \u001b[0mimage\u001b[0m\u001b[0;34m.\u001b[0m\u001b[0mload_img\u001b[0m\u001b[0;34m(\u001b[0m\u001b[0mpath\u001b[0m \u001b[0;34m=\u001b[0m \u001b[0;34m\"/home/user/data/darth.png\"\u001b[0m\u001b[0;34m,\u001b[0m \u001b[0mtarget_size\u001b[0m \u001b[0;34m=\u001b[0m \u001b[0;34m(\u001b[0m\u001b[0;36m180\u001b[0m\u001b[0;34m,\u001b[0m \u001b[0;36m180\u001b[0m\u001b[0;34m)\u001b[0m\u001b[0;34m)\u001b[0m\u001b[0;34m\u001b[0m\u001b[0;34m\u001b[0m\u001b[0m\n",
      "\u001b[0;31mNameError\u001b[0m: name 'image' is not defined"
     ]
    }
   ],
   "source": [
    "r2d2 = image.load_img(path = \"/home/user/data/r2d2.png\", target_size = (180, 180))\n",
    "darth = image.load_img(path = \"/home/user/data/darth.png\", target_size = (180, 180))"
   ]
  },
  {
   "cell_type": "code",
   "execution_count": 3,
   "metadata": {
    "collapsed": false
   },
   "outputs": [
    {
     "ename": "NameError",
     "evalue": "name 'r2d2' is not defined",
     "output_type": "error",
     "traceback": [
      "\u001b[0;31m---------------------------------------------------------------------------\u001b[0m",
      "\u001b[0;31mNameError\u001b[0m                                 Traceback (most recent call last)",
      "\u001b[0;32m<ipython-input-3-f7400782c0e4>\u001b[0m in \u001b[0;36m<module>\u001b[0;34m\u001b[0m\n\u001b[1;32m      1\u001b[0m \u001b[0;31m#view r2d2\u001b[0m\u001b[0;34m\u001b[0m\u001b[0;34m\u001b[0m\u001b[0;34m\u001b[0m\u001b[0m\n\u001b[0;32m----> 2\u001b[0;31m \u001b[0mr2d2\u001b[0m\u001b[0;34m\u001b[0m\u001b[0;34m\u001b[0m\u001b[0m\n\u001b[0m",
      "\u001b[0;31mNameError\u001b[0m: name 'r2d2' is not defined"
     ]
    }
   ],
   "source": [
    "#view r2d2\n",
    "r2d2"
   ]
  },
  {
   "cell_type": "code",
   "execution_count": 92,
   "metadata": {
    "collapsed": false
   },
   "outputs": [
    {
     "data": {
      "image/png": "[encoded data removed]",
      "text/plain": [
       "<PIL.Image.Image image mode=RGB size=180x180 at 0x7F163A25A860>"
      ]
     },
     "execution_count": 92,
     "metadata": {
     },
     "output_type": "execute_result"
    }
   ],
   "source": [
    "#view darth\n",
    "darth"
   ]
  },
  {
   "cell_type": "markdown",
   "metadata": {
    "collapsed": false
   },
   "source": [
    "<h4>6.3 Flipping an Image</h4>\n",
    "\n"
   ]
  },
  {
   "cell_type": "code",
   "execution_count": 94,
   "metadata": {
    "collapsed": false
   },
   "outputs": [
    {
     "data": {
      "image/png": "[encoded data removed]",
      "text/plain": [
       "<PIL.Image.Image image mode=RGB size=180x180 at 0x7F163A1D55F8>"
      ]
     },
     "execution_count": 94,
     "metadata": {
     },
     "output_type": "execute_result"
    }
   ],
   "source": [
    "#flip one of the images above\n",
    "ImageOps.flip(r2d2)"
   ]
  },
  {
   "cell_type": "markdown",
   "metadata": {
    "collapsed": false
   },
   "source": [
    "<h4>6.3 Inverting an Image</h4>\n",
    "\n"
   ]
  },
  {
   "cell_type": "code",
   "execution_count": 1,
   "metadata": {
    "collapsed": false
   },
   "outputs": [
    {
     "ename": "NameError",
     "evalue": "name 'ImageOps' is not defined",
     "output_type": "error",
     "traceback": [
      "\u001b[0;31m---------------------------------------------------------------------------\u001b[0m",
      "\u001b[0;31mNameError\u001b[0m                                 Traceback (most recent call last)",
      "\u001b[0;32m<ipython-input-1-c3c0bc243bca>\u001b[0m in \u001b[0;36m<module>\u001b[0;34m\u001b[0m\n\u001b[1;32m      1\u001b[0m \u001b[0;31m#invert one of the images above\u001b[0m\u001b[0;34m\u001b[0m\u001b[0;34m\u001b[0m\u001b[0;34m\u001b[0m\u001b[0m\n\u001b[0;32m----> 2\u001b[0;31m \u001b[0mImageOps\u001b[0m\u001b[0;34m.\u001b[0m\u001b[0minvert\u001b[0m\u001b[0;34m(\u001b[0m\u001b[0mr2d2\u001b[0m\u001b[0;34m)\u001b[0m\u001b[0;34m\u001b[0m\u001b[0;34m\u001b[0m\u001b[0m\n\u001b[0m",
      "\u001b[0;31mNameError\u001b[0m: name 'ImageOps' is not defined"
     ]
    }
   ],
   "source": [
    "#invert one of the images above\n",
    "ImageOps.invert(r2d2)"
   ]
  },
  {
   "cell_type": "markdown",
   "metadata": {
    "collapsed": false
   },
   "source": [
    "<h4>6.3 Convert to an array of pixels</h4>\n",
    "\n",
    "Now that we have loaded the images. Let us convert them to an array of pixels using the <b>img_to_array</b> function from <b>image</b> library"
   ]
  },
  {
   "cell_type": "code",
   "execution_count": 99,
   "metadata": {
    "collapsed": false
   },
   "outputs": [
   ],
   "source": [
    "#convert both images to arrays\n",
    "r2d2Array = image.img_to_array(r2d2)\n",
    "darthArray = image.img_to_array(darth)"
   ]
  },
  {
   "cell_type": "code",
   "execution_count": 101,
   "metadata": {
    "collapsed": false
   },
   "outputs": [
    {
     "data": {
      "text/plain": [
       "array([[[255., 255., 255.],\n",
       "        [255., 255., 255.],\n",
       "        [255., 255., 255.],\n",
       "        ...,\n",
       "        [255., 255., 255.],\n",
       "        [255., 255., 255.],\n",
       "        [255., 255., 255.]],\n",
       "\n",
       "       [[255., 255., 255.],\n",
       "        [255., 255., 255.],\n",
       "        [255., 255., 255.],\n",
       "        ...,\n",
       "        [255., 255., 255.],\n",
       "        [255., 255., 255.],\n",
       "        [255., 255., 255.]],\n",
       "\n",
       "       [[255., 255., 255.],\n",
       "        [255., 255., 255.],\n",
       "        [255., 255., 255.],\n",
       "        ...,\n",
       "        [255., 255., 255.],\n",
       "        [255., 255., 255.],\n",
       "        [255., 255., 255.]],\n",
       "\n",
       "       ...,\n",
       "\n",
       "       [[255., 255., 255.],\n",
       "        [255., 255., 255.],\n",
       "        [255., 255., 255.],\n",
       "        ...,\n",
       "        [255., 255., 255.],\n",
       "        [255., 255., 255.],\n",
       "        [255., 255., 255.]],\n",
       "\n",
       "       [[255., 255., 255.],\n",
       "        [255., 255., 255.],\n",
       "        [255., 255., 255.],\n",
       "        ...,\n",
       "        [255., 255., 255.],\n",
       "        [255., 255., 255.],\n",
       "        [255., 255., 255.]],\n",
       "\n",
       "       [[255., 255., 255.],\n",
       "        [255., 255., 255.],\n",
       "        [255., 255., 255.],\n",
       "        ...,\n",
       "        [255., 255., 255.],\n",
       "        [255., 255., 255.],\n",
       "        [255., 255., 255.]]], dtype=float32)"
      ]
     },
     "execution_count": 101,
     "metadata": {
     },
     "output_type": "execute_result"
    }
   ],
   "source": [
    "#what does an array look like? it looks very similar to the one we created earlier\n",
    "r2d2Array"
   ]
  },
  {
   "cell_type": "markdown",
   "metadata": {
    "collapsed": false
   },
   "source": [
    "What do the above numbers represent? Visit https://www.rapidtables.com/web/color/RGB_Color.html to find out!"
   ]
  },
  {
   "cell_type": "code",
   "execution_count": 103,
   "metadata": {
    "collapsed": false
   },
   "outputs": [
    {
     "data": {
      "text/plain": [
       "array([255., 255., 255.], dtype=float32)"
      ]
     },
     "execution_count": 103,
     "metadata": {
     },
     "output_type": "execute_result"
    }
   ],
   "source": [
    "#let us view the first row of pixels\n",
    "r2d2Array[0, 0 , :]"
   ]
  },
  {
   "cell_type": "code",
   "execution_count": 104,
   "metadata": {
    "collapsed": false
   },
   "outputs": [
    {
     "data": {
      "text/plain": [
       "array([ 63.,  81., 181.], dtype=float32)"
      ]
     },
     "execution_count": 104,
     "metadata": {
     },
     "output_type": "execute_result"
    }
   ],
   "source": [
    "#what row of pixels do you think will have the blue?\n",
    "r2d2Array[7, 90,]"
   ]
  },
  {
   "cell_type": "code",
   "execution_count": 111,
   "metadata": {
    "collapsed": false
   },
   "outputs": [
    {
     "ename": "FileNotFoundError",
     "evalue": "[Errno 2] No such file or directory: '/home/user/data/unknown3.png'",
     "output_type": "error",
     "traceback": [
      "\u001b[0;31m---------------------------------------------------------------------------\u001b[0m",
      "\u001b[0;31mFileNotFoundError\u001b[0m                         Traceback (most recent call last)",
      "\u001b[0;32m<ipython-input-111-15caa6667c1e>\u001b[0m in \u001b[0;36m<module>\u001b[0;34m\u001b[0m\n\u001b[1;32m     20\u001b[0m \u001b[0;31m#id(r2d2Array)\u001b[0m\u001b[0;34m\u001b[0m\u001b[0;34m\u001b[0m\u001b[0;34m\u001b[0m\u001b[0m\n\u001b[1;32m     21\u001b[0m \u001b[0;34m\u001b[0m\u001b[0m\n\u001b[0;32m---> 22\u001b[0;31m \u001b[0munknown3\u001b[0m \u001b[0;34m=\u001b[0m \u001b[0mimage\u001b[0m\u001b[0;34m.\u001b[0m\u001b[0mload_img\u001b[0m\u001b[0;34m(\u001b[0m\u001b[0mpath\u001b[0m \u001b[0;34m=\u001b[0m \u001b[0;34m\"/home/user/data/unknown3.png\"\u001b[0m\u001b[0;34m,\u001b[0m \u001b[0mtarget_size\u001b[0m \u001b[0;34m=\u001b[0m \u001b[0;34m(\u001b[0m\u001b[0;36m180\u001b[0m\u001b[0;34m,\u001b[0m \u001b[0;36m180\u001b[0m\u001b[0;34m)\u001b[0m\u001b[0;34m)\u001b[0m\u001b[0;34m\u001b[0m\u001b[0;34m\u001b[0m\u001b[0m\n\u001b[0m\u001b[1;32m     23\u001b[0m \u001b[0;34m\u001b[0m\u001b[0m\n\u001b[1;32m     24\u001b[0m \u001b[0;32mdef\u001b[0m \u001b[0mstar_wars\u001b[0m\u001b[0;34m(\u001b[0m\u001b[0mx\u001b[0m\u001b[0;34m)\u001b[0m\u001b[0;34m:\u001b[0m\u001b[0;34m\u001b[0m\u001b[0;34m\u001b[0m\u001b[0m\n",
      "\u001b[0;32m/usr/local/lib/python3.6/dist-packages/keras_preprocessing/image/utils.py\u001b[0m in \u001b[0;36mload_img\u001b[0;34m(path, grayscale, color_mode, target_size, interpolation)\u001b[0m\n\u001b[1;32m    108\u001b[0m         raise ImportError('Could not import PIL.Image. '\n\u001b[1;32m    109\u001b[0m                           'The use of `load_img` requires PIL.')\n\u001b[0;32m--> 110\u001b[0;31m     \u001b[0mimg\u001b[0m \u001b[0;34m=\u001b[0m \u001b[0mpil_image\u001b[0m\u001b[0;34m.\u001b[0m\u001b[0mopen\u001b[0m\u001b[0;34m(\u001b[0m\u001b[0mpath\u001b[0m\u001b[0;34m)\u001b[0m\u001b[0;34m\u001b[0m\u001b[0;34m\u001b[0m\u001b[0m\n\u001b[0m\u001b[1;32m    111\u001b[0m     \u001b[0;32mif\u001b[0m \u001b[0mcolor_mode\u001b[0m \u001b[0;34m==\u001b[0m \u001b[0;34m'grayscale'\u001b[0m\u001b[0;34m:\u001b[0m\u001b[0;34m\u001b[0m\u001b[0;34m\u001b[0m\u001b[0m\n\u001b[1;32m    112\u001b[0m         \u001b[0;32mif\u001b[0m \u001b[0mimg\u001b[0m\u001b[0;34m.\u001b[0m\u001b[0mmode\u001b[0m \u001b[0;34m!=\u001b[0m \u001b[0;34m'L'\u001b[0m\u001b[0;34m:\u001b[0m\u001b[0;34m\u001b[0m\u001b[0;34m\u001b[0m\u001b[0m\n",
      "\u001b[0;32m/usr/local/lib/python3.6/dist-packages/PIL/Image.py\u001b[0m in \u001b[0;36mopen\u001b[0;34m(fp, mode)\u001b[0m\n\u001b[1;32m   2768\u001b[0m \u001b[0;34m\u001b[0m\u001b[0m\n\u001b[1;32m   2769\u001b[0m     \u001b[0;32mif\u001b[0m \u001b[0mfilename\u001b[0m\u001b[0;34m:\u001b[0m\u001b[0;34m\u001b[0m\u001b[0;34m\u001b[0m\u001b[0m\n\u001b[0;32m-> 2770\u001b[0;31m         \u001b[0mfp\u001b[0m \u001b[0;34m=\u001b[0m \u001b[0mbuiltins\u001b[0m\u001b[0;34m.\u001b[0m\u001b[0mopen\u001b[0m\u001b[0;34m(\u001b[0m\u001b[0mfilename\u001b[0m\u001b[0;34m,\u001b[0m \u001b[0;34m\"rb\"\u001b[0m\u001b[0;34m)\u001b[0m\u001b[0;34m\u001b[0m\u001b[0;34m\u001b[0m\u001b[0m\n\u001b[0m\u001b[1;32m   2771\u001b[0m         \u001b[0mexclusive_fp\u001b[0m \u001b[0;34m=\u001b[0m \u001b[0;32mTrue\u001b[0m\u001b[0;34m\u001b[0m\u001b[0;34m\u001b[0m\u001b[0m\n\u001b[1;32m   2772\u001b[0m \u001b[0;34m\u001b[0m\u001b[0m\n",
      "\u001b[0;31mFileNotFoundError\u001b[0m: [Errno 2] No such file or directory: '/home/user/data/unknown3.png'"
     ]
    }
   ],
   "source": [
    "#can we find the maximum pixel value?\n",
    "#black = 0\n",
    "#darthPix = 0\n",
    "#r2d2Pix = 0\n",
    "\n",
    "#def id(x):\n",
    "#    for darthBlackPix in darthArray:\n",
    "#        if(darthBlackPix.sum() == 0):\n",
    "#            darthPix += 1\n",
    "#    for r2d2BlackPix in r2d2Array:\n",
    "#        if(r2d2BlackPix.sum() == 0):\n",
    "#            r2d2Pix += 1\n",
    "#    for pixel in x:\n",
    "#        if(pixel.sum() == 0):\n",
    "#            black += 1\n",
    "#    if(darthPix - black < r2d2Pix - black):\n",
    "#        print('darth')\n",
    "#    else:\n",
    "#        print('r2d2')\n",
    "#id(r2d2Array)\n",
    "\n",
    "unknown3 = image.load_img(path = \"/home/user/data/unknown3.png\", target_size = (180, 180))\n",
    "\n",
    "def star_wars(x):\n",
    "    if (x.mean()<200):\n",
    "        print('darth')\n",
    "    else:\n",
    "        print('r2d2')\n",
    "    return()\n",
    "star_wars(unknown3)"
   ]
  },
  {
   "cell_type": "markdown",
   "metadata": {
    "collapsed": false
   },
   "source": [
    "<h4>6.4 Build an R2D2 and Darth Vader Classifier</h4>"
   ]
  },
  {
   "cell_type": "markdown",
   "metadata": {
    "collapsed": false
   },
   "source": [
    "Based on the two pictures you have seen above. What kind of logic do you think we can use to figure out if it is a picture of R2d2 vs Darth Vader. Use the Python skills you have learned so far to write a function that:\n",
    "\n",
    " * Accepts a picture\n",
    " * Uses logic to distinguish between darth and r2d2 images\n",
    " * Returns a message saying if it is darth vader or r2d2"
   ]
  },
  {
   "cell_type": "code",
   "execution_count": 61,
   "metadata": {
    "collapsed": false
   },
   "outputs": [
   ],
   "source": [
   ]
  },
  {
   "cell_type": "code",
   "execution_count": 40,
   "metadata": {
    "collapsed": false
   },
   "outputs": [
   ],
   "source": [
    "# now that our function is defined, let's try calling it and passing it a pic\n"
   ]
  },
  {
   "cell_type": "code",
   "execution_count": 39,
   "metadata": {
    "collapsed": false
   },
   "outputs": [
   ],
   "source": [
    "#let's try it on a new image!\n"
   ]
  },
  {
   "cell_type": "code",
   "execution_count": 41,
   "metadata": {
    "collapsed": false
   },
   "outputs": [
   ],
   "source": [
    "#let's see if we got it right\n"
   ]
  },
  {
   "cell_type": "code",
   "execution_count": 42,
   "metadata": {
    "collapsed": false
   },
   "outputs": [
   ],
   "source": [
    "#let's try it on another image!\n"
   ]
  },
  {
   "cell_type": "code",
   "execution_count": 43,
   "metadata": {
    "collapsed": false
   },
   "outputs": [
   ],
   "source": [
    "#let's check if we got it right\n"
   ]
  },
  {
   "cell_type": "code",
   "execution_count": 66,
   "metadata": {
    "collapsed": false
   },
   "outputs": [
    {
     "data": {
      "text/plain": [
       "'The circle is now complete. Darth Vader'"
      ]
     },
     "execution_count": 66,
     "metadata": {
     },
     "output_type": "execute_result"
    }
   ],
   "source": [
    "#let's try it on another image!\n",
    "unknown3 = image.load_img(path=\"/home/user/data/unknown3.jpeg\",target_size=(180,180))\n",
    "unknown3_arr = image.img_to_array(unknown3)\n",
    "star_wars(unknown3_arr)"
   ]
  },
  {
   "cell_type": "markdown",
   "metadata": {
    "collapsed": false
   },
   "source": [
    "Why do you think it did not get the above right? What have we not considered?"
   ]
  },
  {
   "cell_type": "markdown",
   "metadata": {
    "collapsed": false
   },
   "source": [
    "<div style=\"text-align: center;\"><img src=\"./THE CODING HIVE.png\" height=\"140\" width=\"140\" />\n",
    "\n",
    "<div> 2019"
   ]
  },
  {
   "cell_type": "code",
   "execution_count": 0,
   "metadata": {
    "collapsed": false
   },
   "outputs": [
   ],
   "source": [
   ]
  }
 ],
 "metadata": {
  "kernelspec": {
   "display_name": "Python 3 (system-wide)",
   "language": "python",
   "metadata": {
    "cocalc": {
     "description": "Python 3 programming language",
     "priority": 100,
     "url": "https://www.python.org/"
    }
   },
   "name": "python3"
  },
  "language_info": {
   "codemirror_mode": {
    "name": "ipython",
    "version": 3
   },
   "file_extension": ".py",
   "mimetype": "text/x-python",
   "name": "python",
   "nbconvert_exporter": "python",
   "pygments_lexer": "ipython3",
   "version": "3.6.8"
  }
 },
 "nbformat": 4,
 "nbformat_minor": 0
}